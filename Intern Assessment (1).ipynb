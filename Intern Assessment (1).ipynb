{
 "cells": [
  {
   "cell_type": "markdown",
   "metadata": {},
   "source": [
    "Xueru Xie (Wilson)\n",
    "\n",
    "DAIZIC Intern Assessment\n",
    "\n",
    "Time:\n",
    "09/04/2020 15:55 - 16:57"
   ]
  },
  {
   "cell_type": "code",
   "execution_count": 231,
   "metadata": {},
   "outputs": [],
   "source": [
    "import numpy as np\n",
    "import pandas as pd\n",
    "import requests"
   ]
  },
  {
   "cell_type": "code",
   "execution_count": 232,
   "metadata": {},
   "outputs": [],
   "source": [
    "response = requests.get(\"https://api.pushshift.io/reddit/search/submission/?subreddit=soundcloud&frequency=month&size=500&after=2d\") #random stuff"
   ]
  },
  {
   "cell_type": "code",
   "execution_count": 233,
   "metadata": {},
   "outputs": [
    {
     "data": {
      "text/plain": [
       "<Response [200]>"
      ]
     },
     "execution_count": 233,
     "metadata": {},
     "output_type": "execute_result"
    }
   ],
   "source": [
    "response #random stuff"
   ]
  },
  {
   "cell_type": "code",
   "execution_count": 234,
   "metadata": {},
   "outputs": [],
   "source": [
    "soundcloud = response.json() #random stuff"
   ]
  },
  {
   "cell_type": "markdown",
   "metadata": {},
   "source": [
    "Identify the top 5 artists each month by num_comments (Top-5 commented submissions win). I believe that if more people are commenting on the reddit posts, that means the submission is very popular."
   ]
  },
  {
   "cell_type": "markdown",
   "metadata": {},
   "source": [
    "I created the function below to find the top 5 artist each month. Note that the exact month range is not accurate because I only use the \"after\" parameter in this case. For example, posts in August would be submissions a month ago or 30 days ago, posts in July would be submissions two months ago or 60 days ago. I did not adjust the time frame into exact intervals due to time limit. In addition, I set the is_video to True so that the submissions are not discussions but music videos."
   ]
  },
  {
   "cell_type": "code",
   "execution_count": 235,
   "metadata": {},
   "outputs": [],
   "source": [
    "def goal_1(factor):\n",
    "    output = []\n",
    "    for i in range(1,4,1):#for loop for month\n",
    "        response = requests.get(\"https://api.pushshift.io/reddit/search/\" + factor + \"/?subreddit=soundcloud\" + \n",
    "                                \"&frequency=month\" + \"&after=\" + str(i*30) + \"d\" + \"&size=500\" + \"&sort_type=num_comments\"\n",
    "                               + \"&sort=desc\" + \"&is_video=True\") #request for submissions, sort by number of comments\n",
    "        soundcloud = response.json() #save the submissions\n",
    "        top5 = soundcloud['data'][0:5] #select the top5 comments\n",
    "        for j in top5:#for loop to return the characteristics of the submissions\n",
    "            output.append((j['author'],\n",
    "                           j['num_comments'],\n",
    "                           j['title'],\n",
    "                           i))#only keep the author name, number of comments, and the month-ago value\n",
    "    return output"
   ]
  },
  {
   "cell_type": "markdown",
   "metadata": {},
   "source": [
    "Here is the result. One thing that I can improve is to construct a dataframe that stores all the values, I do not have the time to finish this. Also, I noticed that there are deleted accounts? I am not sure why their accounts are deleted. "
   ]
  },
  {
   "cell_type": "code",
   "execution_count": 236,
   "metadata": {},
   "outputs": [
    {
     "data": {
      "text/plain": [
       "[('333vert',\n",
       "  2,\n",
       "  'Does anyone know why this happens ? The heart goes from orange back to grey',\n",
       "  1),\n",
       " ('thenewoldschoolmusic',\n",
       "  2,\n",
       "  'Weird as fuck track I conjured up, leave some feedback ✌🏽',\n",
       "  1),\n",
       " ('Rad-Kiddo',\n",
       "  2,\n",
       "  'My new single “Aim It High-Rad Kiddo” is about to be on SoundCloud Here’s the demo if you’d like to collab pls DM',\n",
       "  1),\n",
       " ('cultureaux', 2, 'Little vibe', 1),\n",
       " ('ssolosno', 1, 'Rough draft i have no idea what im doin help😔', 1),\n",
       " ('[deleted]', 2, 'Selling beats features and mixing for the low', 2),\n",
       " ('[deleted]', 2, '[Rap] NEW SONG W. BIGBABYGUCCI! 🔥', 2),\n",
       " ('Whoisbas117', 2, 'Soundcloud- Luvbas', 2),\n",
       " ('[deleted]', 2, 'does anyone know the name of this song?', 2),\n",
       " ('[deleted]',\n",
       "  2,\n",
       "  'Anyone else getting this glitch where the text doesnt show ?',\n",
       "  2),\n",
       " ('[deleted]', 2, 'Selling beats features and mixing for the low', 3),\n",
       " ('[deleted]', 2, '[Rap] NEW SONG W. BIGBABYGUCCI! 🔥', 3),\n",
       " ('[deleted]', 2, 'Does anybody know the title of this song?', 3),\n",
       " ('Whoisbas117', 2, 'Soundcloud- Luvbas', 3),\n",
       " ('[deleted]', 2, 'does anyone know the name of this song?', 3)]"
      ]
     },
     "execution_count": 236,
     "metadata": {},
     "output_type": "execute_result"
    }
   ],
   "source": [
    "answer = goal_1('submission')\n",
    "answer"
   ]
  },
  {
   "cell_type": "markdown",
   "metadata": {},
   "source": [
    "To find the notable Reddit accounts, I would expand the range to a whole year. So bascially, I am finding the most active Reddit accounts in the past year. In order to be the most active, I believe that it's judged by the number of submissions they post, video submissions or not. I would also say that the Reddit accounts with many num_comments are active because they are not just spamming posts without any discussions."
   ]
  },
  {
   "cell_type": "code",
   "execution_count": 237,
   "metadata": {},
   "outputs": [],
   "source": [
    "def goal_2(factor):\n",
    "    output = []\n",
    "    for i in range(1,12,1):#for loop for month\n",
    "        response = requests.get(\"https://api.pushshift.io/reddit/search/\" + factor + \"/?subreddit=soundcloud\" + \n",
    "                                \"&frequency=month\" + \"&after=\" + str(i*30) + \"d\" + \"&size=500\" + \"&sort_type=num_comments\"\n",
    "                               + \"&sort=desc\") #request for submissions, sort by number of comments\n",
    "        soundcloud = response.json() #save the submissions\n",
    "        top10 = soundcloud['data'][0:10] #select the top5 comments\n",
    "        for j in top10:#for loop to return the characteristics of the submissions\n",
    "            output.append(j['author'])#only keep the author name, number of comments, and the month-ago value\n",
    "    return output"
   ]
  },
  {
   "cell_type": "code",
   "execution_count": 238,
   "metadata": {},
   "outputs": [],
   "source": [
    "final = goal_2('submission')"
   ]
  },
  {
   "cell_type": "code",
   "execution_count": 239,
   "metadata": {},
   "outputs": [],
   "source": [
    "#I constructed a table and grouped the authors by count to see the active accounts."
   ]
  },
  {
   "cell_type": "code",
   "execution_count": 240,
   "metadata": {},
   "outputs": [
    {
     "data": {
      "text/html": [
       "<div>\n",
       "<style scoped>\n",
       "    .dataframe tbody tr th:only-of-type {\n",
       "        vertical-align: middle;\n",
       "    }\n",
       "\n",
       "    .dataframe tbody tr th {\n",
       "        vertical-align: top;\n",
       "    }\n",
       "\n",
       "    .dataframe thead th {\n",
       "        text-align: right;\n",
       "    }\n",
       "</style>\n",
       "<table border=\"1\" class=\"dataframe\">\n",
       "  <thead>\n",
       "    <tr style=\"text-align: right;\">\n",
       "      <th></th>\n",
       "    </tr>\n",
       "    <tr>\n",
       "      <th>authors</th>\n",
       "    </tr>\n",
       "  </thead>\n",
       "  <tbody>\n",
       "    <tr>\n",
       "      <th>BringJetXBack</th>\n",
       "    </tr>\n",
       "    <tr>\n",
       "      <th>DicebergYT</th>\n",
       "    </tr>\n",
       "    <tr>\n",
       "      <th>FizzyDisco</th>\n",
       "    </tr>\n",
       "    <tr>\n",
       "      <th>Kapri_deepak</th>\n",
       "    </tr>\n",
       "    <tr>\n",
       "      <th>MNDSquid</th>\n",
       "    </tr>\n",
       "    <tr>\n",
       "      <th>MintBerryCrunchMan</th>\n",
       "    </tr>\n",
       "    <tr>\n",
       "      <th>Onawagi</th>\n",
       "    </tr>\n",
       "    <tr>\n",
       "      <th>ProperPenguinOG</th>\n",
       "    </tr>\n",
       "    <tr>\n",
       "      <th>Ranjerklin</th>\n",
       "    </tr>\n",
       "    <tr>\n",
       "      <th>Remarcs_</th>\n",
       "    </tr>\n",
       "    <tr>\n",
       "      <th>SaucySkunk</th>\n",
       "    </tr>\n",
       "    <tr>\n",
       "      <th>Segundaleydenewtonnn</th>\n",
       "    </tr>\n",
       "    <tr>\n",
       "      <th>SilverWaterG</th>\n",
       "    </tr>\n",
       "    <tr>\n",
       "      <th>WillOfTheLand</th>\n",
       "    </tr>\n",
       "    <tr>\n",
       "      <th>ashhh__</th>\n",
       "    </tr>\n",
       "    <tr>\n",
       "      <th>finna96</th>\n",
       "    </tr>\n",
       "    <tr>\n",
       "      <th>hmailnow</th>\n",
       "    </tr>\n",
       "    <tr>\n",
       "      <th>kennicole14</th>\n",
       "    </tr>\n",
       "    <tr>\n",
       "      <th>lowalldayofficial</th>\n",
       "    </tr>\n",
       "    <tr>\n",
       "      <th>notmil</th>\n",
       "    </tr>\n",
       "    <tr>\n",
       "      <th>ourworkisneverover1</th>\n",
       "    </tr>\n",
       "    <tr>\n",
       "      <th>rowboat1927</th>\n",
       "    </tr>\n",
       "    <tr>\n",
       "      <th>sevenyeardust</th>\n",
       "    </tr>\n",
       "    <tr>\n",
       "      <th>watchNwaiting</th>\n",
       "    </tr>\n",
       "  </tbody>\n",
       "</table>\n",
       "</div>"
      ],
      "text/plain": [
       "Empty DataFrame\n",
       "Columns: []\n",
       "Index: [BringJetXBack, DicebergYT, FizzyDisco, Kapri_deepak, MNDSquid, MintBerryCrunchMan, Onawagi, ProperPenguinOG, Ranjerklin, Remarcs_, SaucySkunk, Segundaleydenewtonnn, SilverWaterG, WillOfTheLand, ashhh__, finna96, hmailnow, kennicole14, lowalldayofficial, notmil, ourworkisneverover1, rowboat1927, sevenyeardust, watchNwaiting]"
      ]
     },
     "execution_count": 240,
     "metadata": {},
     "output_type": "execute_result"
    }
   ],
   "source": [
    "df = pd.DataFrame(final,columns=['authors'])\n",
    "df.groupby('authors').count()"
   ]
  },
  {
   "cell_type": "code",
   "execution_count": null,
   "metadata": {},
   "outputs": [],
   "source": []
  }
 ],
 "metadata": {
  "kernelspec": {
   "display_name": "Python 3",
   "language": "python",
   "name": "python3"
  },
  "language_info": {
   "codemirror_mode": {
    "name": "ipython",
    "version": 3
   },
   "file_extension": ".py",
   "mimetype": "text/x-python",
   "name": "python",
   "nbconvert_exporter": "python",
   "pygments_lexer": "ipython3",
   "version": "3.6.8"
  }
 },
 "nbformat": 4,
 "nbformat_minor": 4
}
